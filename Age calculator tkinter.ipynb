{
 "cells": [
  {
   "cell_type": "code",
   "execution_count": 30,
   "id": "b82994a2",
   "metadata": {},
   "outputs": [],
   "source": [
    "def ageCalculator(y,m,d):\n",
    "    import datetime\n",
    "    today = datetime.datetime.now().date()\n",
    "    dob = datetime.date(y, m, d)\n",
    "    age = int((today-dob).days / 365.25)\n",
    "    print(age)\n"
   ]
  },
  {
   "cell_type": "code",
   "execution_count": 17,
   "id": "500de236",
   "metadata": {},
   "outputs": [
    {
     "name": "stderr",
     "output_type": "stream",
     "text": [
      "Exception in Tkinter callback\n",
      "Traceback (most recent call last):\n",
      "  File \"C:\\Users\\HP\\anaconda3\\Lib\\tkinter\\__init__.py\", line 1948, in __call__\n",
      "    return self.func(*args)\n",
      "           ^^^^^^^^^^^^^^^^\n",
      "  File \"C:\\Users\\HP\\AppData\\Local\\Temp\\ipykernel_17336\\3155815572.py\", line 5, in ageCalculator\n",
      "    dob = datetime.date(str(entry_date))\n",
      "          ^^^^^^^^^^^^^^^^^^^^^^^^^^^^^^\n",
      "TypeError: 'str' object cannot be interpreted as an integer\n"
     ]
    }
   ],
   "source": [
    "import tkinter as tk\n",
    "def ageCalculator():\n",
    "    import datetime\n",
    "    today = datetime.datetime.now().date()\n",
    "    dob = datetime.date(str(entry_date))\n",
    "    print(dob)\n",
    "    age = int((today-dob).days / 365.25)\n",
    "\n",
    "\n",
    "app = tk.Tk()\n",
    "app.title(\"Age Calculator\")\n",
    "# Create and position the GUI elements\n",
    "label_date = tk.Label(app, text=\"Enter your date of birth (YYYY-MM-DD):\")\n",
    "\n",
    "entry_date = tk.Entry(app)\n",
    "entry_date.pack()\n",
    "\n",
    "button_calculate = tk.Button(app, text=\"Calculate Age\", command=ageCalculator)\n",
    "button_calculate.pack()\n",
    "\n",
    "label_result = tk.Label(app, text=\"\")\n",
    "label_result.pack()\n",
    "#label_result.config(text=f\"You are {age.days} days old.\")\n",
    "app.mainloop()"
   ]
  },
  {
   "cell_type": "code",
   "execution_count": 57,
   "id": "e842f4d6",
   "metadata": {},
   "outputs": [],
   "source": [
    "import tkinter as tk\n",
    "def ageCalculator():\n",
    "    import datetime\n",
    "    today = datetime.datetime.now().date()\n",
    "    date=int(d.get())\n",
    "    month=int(m.get())\n",
    "    year=int(y.get())\n",
    "    dob = datetime.date(year,month,date)\n",
    "    age = int((today-dob).days / 365.25)\n",
    "    t1.config(state='normal')\n",
    "    t1.delete('1.0', tk.END)\n",
    "    t1.insert(tk.END,age)\n",
    "    t1.config(state='disabled')\n",
    "    \n",
    "app=tk.Tk()\n",
    "app.geometry(\"400x300\")\n",
    "app.title(\"AGE CALCULATOR\")\n",
    "app.resizable(width=True,height=True)\n",
    "l1 = tk.Label(app,text=\"The Age Calculator!\",font=(\"Arial\", 20),fg=\"black\")\n",
    "l2 = tk.Label(app,font=(\"Arial\",12),text=\"Enter your birthday which includes the day-month-year.\",fg=\"black\")\n",
    "l_d=tk.Label(app,text=\"Date: \",font=('Arial',12))\n",
    "l_m=tk.Label(app,text=\"Month: \",font=('Arial',12))\n",
    "l_y=tk.Label(app,text=\"Year: \",font=('Arial',12))\n",
    "\n",
    "d=tk.Entry(app,width=5)\n",
    "m=tk.Entry(app,width=5)\n",
    "y=tk.Entry(app,width=5)\n",
    " \n",
    "b1=tk.Button(app,text=\"Calculate Age!\",font=(\"Arial\",13),command=ageCalculator)\n",
    " \n",
    "l3 = tk.Label(app,text=\"The Calculated Age is: \",font=('Arial',12))\n",
    "t1=tk.Text(app,width=5,height=0,state=\"disabled\")\n",
    "l1.place(x=70,y=5)\n",
    "l2.place(x=10,y=40)\n",
    "l_d.place(x=100,y=70)\n",
    "l_m.place(x=100,y=95)\n",
    "l_y.place(x=100,y=120)\n",
    "d.place(x=180,y=70)\n",
    "m.place(x=180,y=95)\n",
    "y.place(x=180,y=120)\n",
    "b1.place(x=100,y=150)\n",
    "l3.place(x=50,y=200)\n",
    "t1.place(x=240,y=203)\n",
    "\n",
    "\n",
    "app.mainloop()\n"
   ]
  },
  {
   "cell_type": "code",
   "execution_count": null,
   "id": "26dd3a0f",
   "metadata": {},
   "outputs": [],
   "source": []
  }
 ],
 "metadata": {
  "kernelspec": {
   "display_name": "Python 3 (ipykernel)",
   "language": "python",
   "name": "python3"
  },
  "language_info": {
   "codemirror_mode": {
    "name": "ipython",
    "version": 3
   },
   "file_extension": ".py",
   "mimetype": "text/x-python",
   "name": "python",
   "nbconvert_exporter": "python",
   "pygments_lexer": "ipython3",
   "version": "3.11.3"
  }
 },
 "nbformat": 4,
 "nbformat_minor": 5
}
